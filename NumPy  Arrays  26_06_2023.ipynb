{
 "cells": [
  {
   "cell_type": "markdown",
   "id": "998b0d41",
   "metadata": {},
   "source": [
    "### NumPy"
   ]
  },
  {
   "cell_type": "code",
   "execution_count": 1,
   "id": "6e723dc3",
   "metadata": {},
   "outputs": [],
   "source": [
    "import numpy as np"
   ]
  },
  {
   "cell_type": "markdown",
   "id": "5ea606af",
   "metadata": {},
   "source": [
    "### 1D array"
   ]
  },
  {
   "cell_type": "code",
   "execution_count": 2,
   "id": "9dced8bf",
   "metadata": {},
   "outputs": [],
   "source": [
    "a=np.array([10,20,30,50])"
   ]
  },
  {
   "cell_type": "markdown",
   "id": "1cb6a9d2",
   "metadata": {},
   "source": [
    "### Attributes of arrays"
   ]
  },
  {
   "cell_type": "markdown",
   "id": "5cc42f02",
   "metadata": {},
   "source": [
    "##### dtype"
   ]
  },
  {
   "cell_type": "code",
   "execution_count": 3,
   "id": "8297a192",
   "metadata": {},
   "outputs": [
    {
     "data": {
      "text/plain": [
       "dtype('int32')"
      ]
     },
     "execution_count": 3,
     "metadata": {},
     "output_type": "execute_result"
    }
   ],
   "source": [
    "a.dtype"
   ]
  },
  {
   "cell_type": "markdown",
   "id": "0087a4d8",
   "metadata": {},
   "source": [
    "##### ndim"
   ]
  },
  {
   "cell_type": "code",
   "execution_count": 4,
   "id": "4b81ce7a",
   "metadata": {},
   "outputs": [
    {
     "data": {
      "text/plain": [
       "1"
      ]
     },
     "execution_count": 4,
     "metadata": {},
     "output_type": "execute_result"
    }
   ],
   "source": [
    "a.ndim"
   ]
  },
  {
   "cell_type": "markdown",
   "id": "7890b7f5",
   "metadata": {},
   "source": [
    "##### size"
   ]
  },
  {
   "cell_type": "code",
   "execution_count": 5,
   "id": "62d08b62",
   "metadata": {},
   "outputs": [
    {
     "data": {
      "text/plain": [
       "4"
      ]
     },
     "execution_count": 5,
     "metadata": {},
     "output_type": "execute_result"
    }
   ],
   "source": [
    "a.size"
   ]
  },
  {
   "cell_type": "markdown",
   "id": "f4d677a9",
   "metadata": {},
   "source": [
    "##### shape"
   ]
  },
  {
   "cell_type": "code",
   "execution_count": 6,
   "id": "ace00e24",
   "metadata": {},
   "outputs": [
    {
     "data": {
      "text/plain": [
       "(4,)"
      ]
     },
     "execution_count": 6,
     "metadata": {},
     "output_type": "execute_result"
    }
   ],
   "source": [
    "a.shape"
   ]
  },
  {
   "cell_type": "code",
   "execution_count": 7,
   "id": "e4c4228e",
   "metadata": {},
   "outputs": [
    {
     "data": {
      "text/plain": [
       "10"
      ]
     },
     "execution_count": 7,
     "metadata": {},
     "output_type": "execute_result"
    }
   ],
   "source": [
    "a[0]"
   ]
  },
  {
   "cell_type": "code",
   "execution_count": 8,
   "id": "61f32f82",
   "metadata": {},
   "outputs": [
    {
     "data": {
      "text/plain": [
       "30"
      ]
     },
     "execution_count": 8,
     "metadata": {},
     "output_type": "execute_result"
    }
   ],
   "source": [
    "a[2]"
   ]
  },
  {
   "cell_type": "markdown",
   "id": "94d6c21e",
   "metadata": {},
   "source": [
    "### Multi dimensional array"
   ]
  },
  {
   "cell_type": "code",
   "execution_count": 9,
   "id": "64429920",
   "metadata": {},
   "outputs": [],
   "source": [
    "a_2d = np.array([[10,20,30],[15,25,35]])"
   ]
  },
  {
   "cell_type": "code",
   "execution_count": 10,
   "id": "4bcdeb28",
   "metadata": {},
   "outputs": [
    {
     "data": {
      "text/plain": [
       "array([[10, 20, 30],\n",
       "       [15, 25, 35]])"
      ]
     },
     "execution_count": 10,
     "metadata": {},
     "output_type": "execute_result"
    }
   ],
   "source": [
    "a_2d"
   ]
  },
  {
   "cell_type": "code",
   "execution_count": 11,
   "id": "70120478",
   "metadata": {},
   "outputs": [
    {
     "data": {
      "text/plain": [
       "dtype('int32')"
      ]
     },
     "execution_count": 11,
     "metadata": {},
     "output_type": "execute_result"
    }
   ],
   "source": [
    "a_2d.dtype"
   ]
  },
  {
   "cell_type": "code",
   "execution_count": 12,
   "id": "fe8ccc16",
   "metadata": {},
   "outputs": [
    {
     "data": {
      "text/plain": [
       "(2, 3)"
      ]
     },
     "execution_count": 12,
     "metadata": {},
     "output_type": "execute_result"
    }
   ],
   "source": [
    "a_2d.shape"
   ]
  },
  {
   "cell_type": "code",
   "execution_count": 13,
   "id": "0139b57e",
   "metadata": {},
   "outputs": [
    {
     "data": {
      "text/plain": [
       "2"
      ]
     },
     "execution_count": 13,
     "metadata": {},
     "output_type": "execute_result"
    }
   ],
   "source": [
    "a_2d.ndim"
   ]
  },
  {
   "cell_type": "code",
   "execution_count": 14,
   "id": "c741c5f0",
   "metadata": {},
   "outputs": [
    {
     "data": {
      "text/plain": [
       "6"
      ]
     },
     "execution_count": 14,
     "metadata": {},
     "output_type": "execute_result"
    }
   ],
   "source": [
    "a_2d.size"
   ]
  },
  {
   "cell_type": "code",
   "execution_count": 15,
   "id": "e2d2663f",
   "metadata": {},
   "outputs": [
    {
     "data": {
      "text/plain": [
       "array([10, 20, 30])"
      ]
     },
     "execution_count": 15,
     "metadata": {},
     "output_type": "execute_result"
    }
   ],
   "source": [
    "a_2d[0]"
   ]
  },
  {
   "cell_type": "markdown",
   "id": "f0e21154",
   "metadata": {},
   "source": [
    "### Another type of multi dimensional arrays"
   ]
  },
  {
   "cell_type": "code",
   "execution_count": 16,
   "id": "c34b2911",
   "metadata": {},
   "outputs": [],
   "source": [
    "another_type_array = np.array([[[1,2,3],[3,4,5],[6,7,8]]])"
   ]
  },
  {
   "cell_type": "code",
   "execution_count": 17,
   "id": "c3379522",
   "metadata": {},
   "outputs": [
    {
     "data": {
      "text/plain": [
       "array([[[1, 2, 3],\n",
       "        [3, 4, 5],\n",
       "        [6, 7, 8]]])"
      ]
     },
     "execution_count": 17,
     "metadata": {},
     "output_type": "execute_result"
    }
   ],
   "source": [
    "another_type_array"
   ]
  },
  {
   "cell_type": "code",
   "execution_count": 18,
   "id": "b41ab533",
   "metadata": {},
   "outputs": [
    {
     "data": {
      "text/plain": [
       "(1, 3, 3)"
      ]
     },
     "execution_count": 18,
     "metadata": {},
     "output_type": "execute_result"
    }
   ],
   "source": [
    "another_type_array.shape"
   ]
  },
  {
   "cell_type": "code",
   "execution_count": 19,
   "id": "b25a1105",
   "metadata": {},
   "outputs": [
    {
     "data": {
      "text/plain": [
       "3"
      ]
     },
     "execution_count": 19,
     "metadata": {},
     "output_type": "execute_result"
    }
   ],
   "source": [
    "another_type_array.ndim"
   ]
  },
  {
   "cell_type": "markdown",
   "id": "f3279737",
   "metadata": {},
   "source": [
    "#### First element in first array"
   ]
  },
  {
   "cell_type": "code",
   "execution_count": 20,
   "id": "40b7f72e",
   "metadata": {},
   "outputs": [
    {
     "data": {
      "text/plain": [
       "10"
      ]
     },
     "execution_count": 20,
     "metadata": {},
     "output_type": "execute_result"
    }
   ],
   "source": [
    "a_2d[0][0]"
   ]
  },
  {
   "cell_type": "markdown",
   "id": "15dd2c2c",
   "metadata": {},
   "source": [
    "#### Second element in second array"
   ]
  },
  {
   "cell_type": "code",
   "execution_count": 21,
   "id": "5aa726eb",
   "metadata": {},
   "outputs": [
    {
     "data": {
      "text/plain": [
       "25"
      ]
     },
     "execution_count": 21,
     "metadata": {},
     "output_type": "execute_result"
    }
   ],
   "source": [
    "a_2d[1][1]"
   ]
  },
  {
   "cell_type": "markdown",
   "id": "8692f5c7",
   "metadata": {},
   "source": [
    "#### Lets change its data type into float"
   ]
  },
  {
   "cell_type": "code",
   "execution_count": 22,
   "id": "1a6fe8d5",
   "metadata": {},
   "outputs": [],
   "source": [
    "a_2d = np.array([[10,20,30],[15,25,35]],dtype = float)"
   ]
  },
  {
   "cell_type": "code",
   "execution_count": 23,
   "id": "e00c505d",
   "metadata": {},
   "outputs": [
    {
     "data": {
      "text/plain": [
       "array([[10., 20., 30.],\n",
       "       [15., 25., 35.]])"
      ]
     },
     "execution_count": 23,
     "metadata": {},
     "output_type": "execute_result"
    }
   ],
   "source": [
    "a_2d"
   ]
  },
  {
   "cell_type": "markdown",
   "id": "0514d69f",
   "metadata": {},
   "source": [
    "### Lets create a bigger array"
   ]
  },
  {
   "cell_type": "code",
   "execution_count": 24,
   "id": "c59d8de8",
   "metadata": {},
   "outputs": [],
   "source": [
    "a_bigger = np.array([\n",
    "[\n",
    "[10,20,30,40],[2,4,6,8],[1,2,3,4]\n",
    "],\n",
    "[\n",
    "[9,9,4,2],[1,1,2,3],[0,2,0,1]\n",
    "],\n",
    "[\n",
    "[12,33,21,1],[22,1,22,2],[0,2,3,7]\n",
    "]\n",
    "],dtype = float)"
   ]
  },
  {
   "cell_type": "code",
   "execution_count": 25,
   "id": "c1d1eec0",
   "metadata": {},
   "outputs": [
    {
     "data": {
      "text/plain": [
       "array([[[10., 20., 30., 40.],\n",
       "        [ 2.,  4.,  6.,  8.],\n",
       "        [ 1.,  2.,  3.,  4.]],\n",
       "\n",
       "       [[ 9.,  9.,  4.,  2.],\n",
       "        [ 1.,  1.,  2.,  3.],\n",
       "        [ 0.,  2.,  0.,  1.]],\n",
       "\n",
       "       [[12., 33., 21.,  1.],\n",
       "        [22.,  1., 22.,  2.],\n",
       "        [ 0.,  2.,  3.,  7.]]])"
      ]
     },
     "execution_count": 25,
     "metadata": {},
     "output_type": "execute_result"
    }
   ],
   "source": [
    "a_bigger"
   ]
  },
  {
   "cell_type": "code",
   "execution_count": 26,
   "id": "16b12d67",
   "metadata": {},
   "outputs": [
    {
     "data": {
      "text/plain": [
       "(3, 3, 4)"
      ]
     },
     "execution_count": 26,
     "metadata": {},
     "output_type": "execute_result"
    }
   ],
   "source": [
    "a_bigger.shape"
   ]
  },
  {
   "cell_type": "code",
   "execution_count": 27,
   "id": "7150fa4f",
   "metadata": {},
   "outputs": [
    {
     "data": {
      "text/plain": [
       "3"
      ]
     },
     "execution_count": 27,
     "metadata": {},
     "output_type": "execute_result"
    }
   ],
   "source": [
    "a_bigger.ndim"
   ]
  },
  {
   "cell_type": "code",
   "execution_count": 28,
   "id": "b812e282",
   "metadata": {},
   "outputs": [
    {
     "data": {
      "text/plain": [
       "36"
      ]
     },
     "execution_count": 28,
     "metadata": {},
     "output_type": "execute_result"
    }
   ],
   "source": [
    "a_bigger.size"
   ]
  },
  {
   "cell_type": "code",
   "execution_count": 29,
   "id": "31d2608e",
   "metadata": {},
   "outputs": [
    {
     "data": {
      "text/plain": [
       "7.0"
      ]
     },
     "execution_count": 29,
     "metadata": {},
     "output_type": "execute_result"
    }
   ],
   "source": [
    "a_bigger[2][2][3]"
   ]
  },
  {
   "cell_type": "code",
   "execution_count": 30,
   "id": "ede80f51",
   "metadata": {},
   "outputs": [
    {
     "data": {
      "text/plain": [
       "array([0., 2., 3., 7.])"
      ]
     },
     "execution_count": 30,
     "metadata": {},
     "output_type": "execute_result"
    }
   ],
   "source": [
    "a_bigger[2][2]"
   ]
  },
  {
   "cell_type": "markdown",
   "id": "649dadc4",
   "metadata": {},
   "source": [
    "### Filling arrays"
   ]
  },
  {
   "cell_type": "markdown",
   "id": "8e89df89",
   "metadata": {},
   "source": [
    "##### np.full"
   ]
  },
  {
   "cell_type": "markdown",
   "id": "427d08d5",
   "metadata": {},
   "source": [
    "##### By using the full function for example, we fill an array of a certain shape with the same number. In this case we create a 3x5x4 matrix, which is filled with sevens. \n"
   ]
  },
  {
   "cell_type": "code",
   "execution_count": 31,
   "id": "35f136cc",
   "metadata": {},
   "outputs": [],
   "source": [
    "a_full = np.full((3,5,4),7)"
   ]
  },
  {
   "cell_type": "code",
   "execution_count": 32,
   "id": "9fc4c99a",
   "metadata": {},
   "outputs": [
    {
     "data": {
      "text/plain": [
       "array([[[7, 7, 7, 7],\n",
       "        [7, 7, 7, 7],\n",
       "        [7, 7, 7, 7],\n",
       "        [7, 7, 7, 7],\n",
       "        [7, 7, 7, 7]],\n",
       "\n",
       "       [[7, 7, 7, 7],\n",
       "        [7, 7, 7, 7],\n",
       "        [7, 7, 7, 7],\n",
       "        [7, 7, 7, 7],\n",
       "        [7, 7, 7, 7]],\n",
       "\n",
       "       [[7, 7, 7, 7],\n",
       "        [7, 7, 7, 7],\n",
       "        [7, 7, 7, 7],\n",
       "        [7, 7, 7, 7],\n",
       "        [7, 7, 7, 7]]])"
      ]
     },
     "execution_count": 32,
     "metadata": {},
     "output_type": "execute_result"
    }
   ],
   "source": [
    "a_full"
   ]
  },
  {
   "cell_type": "code",
   "execution_count": 33,
   "id": "7bdbb28e",
   "metadata": {},
   "outputs": [
    {
     "data": {
      "text/plain": [
       "3"
      ]
     },
     "execution_count": 33,
     "metadata": {},
     "output_type": "execute_result"
    }
   ],
   "source": [
    "a_full.ndim"
   ]
  },
  {
   "cell_type": "markdown",
   "id": "29dc746e",
   "metadata": {},
   "source": [
    "### ZEROS AND ONES"
   ]
  },
  {
   "cell_type": "markdown",
   "id": "d78c9a06",
   "metadata": {},
   "source": [
    "#### For the cases that we want arrays full of zeros or ones, we even have specific functions."
   ]
  },
  {
   "cell_type": "code",
   "execution_count": 34,
   "id": "884fd2e2",
   "metadata": {},
   "outputs": [
    {
     "data": {
      "text/plain": [
       "array([[0., 0., 0.],\n",
       "       [0., 0., 0.],\n",
       "       [0., 0., 0.]])"
      ]
     },
     "execution_count": 34,
     "metadata": {},
     "output_type": "execute_result"
    }
   ],
   "source": [
    "a_zeros = np.zeros((3,3))\n",
    "a_zeros"
   ]
  },
  {
   "cell_type": "code",
   "execution_count": 35,
   "id": "49d89ba5",
   "metadata": {},
   "outputs": [
    {
     "data": {
      "text/plain": [
       "array([[[1., 1., 1., 1.],\n",
       "        [1., 1., 1., 1.],\n",
       "        [1., 1., 1., 1.]],\n",
       "\n",
       "       [[1., 1., 1., 1.],\n",
       "        [1., 1., 1., 1.],\n",
       "        [1., 1., 1., 1.]]])"
      ]
     },
     "execution_count": 35,
     "metadata": {},
     "output_type": "execute_result"
    }
   ],
   "source": [
    "b_zeros = np.ones((2,3,4))\n",
    "b_zeros"
   ]
  },
  {
   "cell_type": "code",
   "execution_count": 36,
   "id": "177f59ff",
   "metadata": {},
   "outputs": [
    {
     "data": {
      "text/plain": [
       "3"
      ]
     },
     "execution_count": 36,
     "metadata": {},
     "output_type": "execute_result"
    }
   ],
   "source": [
    "b_zeros.ndim"
   ]
  },
  {
   "cell_type": "markdown",
   "id": "b88b8a16",
   "metadata": {},
   "source": [
    "### EMPTY AND RANDOM"
   ]
  },
  {
   "cell_type": "markdown",
   "id": "8870a10f",
   "metadata": {},
   "source": [
    "#### Other options would be to create an empty array or one that is filled with random numbers. For this, we use the respective functions once again. \n"
   ]
  },
  {
   "cell_type": "code",
   "execution_count": 37,
   "id": "593d135e",
   "metadata": {},
   "outputs": [],
   "source": [
    "e = np.empty((4,4))"
   ]
  },
  {
   "cell_type": "code",
   "execution_count": 38,
   "id": "9671416f",
   "metadata": {},
   "outputs": [],
   "source": [
    "np.set_printoptions(suppress=True)"
   ]
  },
  {
   "cell_type": "code",
   "execution_count": 39,
   "id": "1cdf2105",
   "metadata": {},
   "outputs": [
    {
     "data": {
      "text/plain": [
       "array([[0., 0., 0., 0.],\n",
       "       [0., 0., 0., 0.],\n",
       "       [0., 0., 0., 0.],\n",
       "       [0., 0., 0., 0.]])"
      ]
     },
     "execution_count": 39,
     "metadata": {},
     "output_type": "execute_result"
    }
   ],
   "source": [
    "e"
   ]
  },
  {
   "cell_type": "code",
   "execution_count": 40,
   "id": "b26d7d82",
   "metadata": {},
   "outputs": [],
   "source": [
    "b_random = np.random.random((2,2))"
   ]
  },
  {
   "cell_type": "code",
   "execution_count": 41,
   "id": "26d2e56b",
   "metadata": {},
   "outputs": [
    {
     "data": {
      "text/plain": [
       "array([[0.79950669, 0.99975211],\n",
       "       [0.41211941, 0.32732342]])"
      ]
     },
     "execution_count": 41,
     "metadata": {},
     "output_type": "execute_result"
    }
   ],
   "source": [
    "b_random"
   ]
  },
  {
   "cell_type": "code",
   "execution_count": 42,
   "id": "ca950a6b",
   "metadata": {},
   "outputs": [
    {
     "data": {
      "text/plain": [
       "2"
      ]
     },
     "execution_count": 42,
     "metadata": {},
     "output_type": "execute_result"
    }
   ],
   "source": [
    "b_random.ndim"
   ]
  },
  {
   "cell_type": "code",
   "execution_count": 43,
   "id": "ceb62b59",
   "metadata": {},
   "outputs": [
    {
     "data": {
      "text/plain": [
       "4"
      ]
     },
     "execution_count": 43,
     "metadata": {},
     "output_type": "execute_result"
    }
   ],
   "source": [
    "b_random.size"
   ]
  },
  {
   "cell_type": "markdown",
   "id": "a0d36996",
   "metadata": {},
   "source": [
    "### RANGES"
   ]
  },
  {
   "cell_type": "markdown",
   "id": "0b76cd6a",
   "metadata": {},
   "source": [
    "#### Instead of just filling arrays with the same values, we can fill create sequences of values by specifying the boundaries. For this, we can use two different functions, namely arange and linspace. \n"
   ]
  },
  {
   "cell_type": "markdown",
   "id": "8e70d801",
   "metadata": {},
   "source": [
    "#### Arange\n",
    "###### Arguements are : start-stop-step"
   ]
  },
  {
   "cell_type": "code",
   "execution_count": 44,
   "id": "7ddb3dfb",
   "metadata": {},
   "outputs": [
    {
     "data": {
      "text/plain": [
       "array([10, 15, 20, 25, 30, 35, 40, 45])"
      ]
     },
     "execution_count": 44,
     "metadata": {},
     "output_type": "execute_result"
    }
   ],
   "source": [
    "e_arange = np.arange(10,50,5)\n",
    "e_arange"
   ]
  },
  {
   "cell_type": "markdown",
   "id": "2191ea50",
   "metadata": {},
   "source": [
    "### Linspace"
   ]
  },
  {
   "cell_type": "markdown",
   "id": "c69c4561",
   "metadata": {},
   "source": [
    "#### By using linspace we also create a list from a minimum value to a maximum value. But instead of specifying the step-size, we specify the amount of values that we want to have in our list. They will all be spread evenly and have the same distance to their neighbors. \n"
   ]
  },
  {
   "cell_type": "markdown",
   "id": "350cf39a",
   "metadata": {},
   "source": [
    "#### start-stop-number of values"
   ]
  },
  {
   "cell_type": "code",
   "execution_count": 45,
   "id": "e08b2ff1",
   "metadata": {},
   "outputs": [
    {
     "data": {
      "text/plain": [
       "array([ 0., 25., 50.])"
      ]
     },
     "execution_count": 45,
     "metadata": {},
     "output_type": "execute_result"
    }
   ],
   "source": [
    "b_linspace = np.linspace(0,50,3)\n",
    "b_linspace"
   ]
  },
  {
   "cell_type": "code",
   "execution_count": 46,
   "id": "ea8266a7",
   "metadata": {},
   "outputs": [
    {
     "data": {
      "text/plain": [
       "1"
      ]
     },
     "execution_count": 46,
     "metadata": {},
     "output_type": "execute_result"
    }
   ],
   "source": [
    "b_linspace.ndim"
   ]
  },
  {
   "cell_type": "code",
   "execution_count": 47,
   "id": "60c5f981",
   "metadata": {},
   "outputs": [
    {
     "data": {
      "text/plain": [
       "3"
      ]
     },
     "execution_count": 47,
     "metadata": {},
     "output_type": "execute_result"
    }
   ],
   "source": [
    "b_linspace.size"
   ]
  },
  {
   "cell_type": "code",
   "execution_count": 48,
   "id": "dedf0993",
   "metadata": {},
   "outputs": [
    {
     "data": {
      "text/plain": [
       "array([ 0.        ,  1.72413793,  3.44827586,  5.17241379,  6.89655172,\n",
       "        8.62068966, 10.34482759, 12.06896552, 13.79310345, 15.51724138,\n",
       "       17.24137931, 18.96551724, 20.68965517, 22.4137931 , 24.13793103,\n",
       "       25.86206897, 27.5862069 , 29.31034483, 31.03448276, 32.75862069,\n",
       "       34.48275862, 36.20689655, 37.93103448, 39.65517241, 41.37931034,\n",
       "       43.10344828, 44.82758621, 46.55172414, 48.27586207, 50.        ])"
      ]
     },
     "execution_count": 48,
     "metadata": {},
     "output_type": "execute_result"
    }
   ],
   "source": [
    "b_linspace1 = np.linspace(0,50,30)\n",
    "b_linspace1"
   ]
  },
  {
   "cell_type": "code",
   "execution_count": 49,
   "id": "5d3d9614",
   "metadata": {},
   "outputs": [
    {
     "data": {
      "text/plain": [
       "30"
      ]
     },
     "execution_count": 49,
     "metadata": {},
     "output_type": "execute_result"
    }
   ],
   "source": [
    "b_linspace1.size"
   ]
  },
  {
   "cell_type": "code",
   "execution_count": 50,
   "id": "5f7c8e51",
   "metadata": {},
   "outputs": [
    {
     "data": {
      "text/plain": [
       "array([ 0,  2,  4,  6,  8, 10, 12, 14, 16, 18, 20, 22, 25, 27, 29, 31, 33,\n",
       "       35, 37, 39, 41, 43, 45, 47, 50])"
      ]
     },
     "execution_count": 50,
     "metadata": {},
     "output_type": "execute_result"
    }
   ],
   "source": [
    "b_linspace2 = np.linspace(0,50,25,dtype=int)\n",
    "b_linspace2"
   ]
  },
  {
   "cell_type": "markdown",
   "id": "6089c8fb",
   "metadata": {},
   "source": [
    "### Math functions"
   ]
  },
  {
   "cell_type": "markdown",
   "id": "6aa109af",
   "metadata": {},
   "source": [
    "#### np.exp(a)\n",
    "##### Takes e to the power of each value"
   ]
  },
  {
   "cell_type": "code",
   "execution_count": 51,
   "id": "d629a1f0",
   "metadata": {},
   "outputs": [
    {
     "data": {
      "text/plain": [
       "array([2.20264658e+04, 4.85165195e+08, 1.06864746e+13, 5.18470553e+21])"
      ]
     },
     "execution_count": 51,
     "metadata": {},
     "output_type": "execute_result"
    }
   ],
   "source": [
    "np.exp(a)"
   ]
  },
  {
   "cell_type": "markdown",
   "id": "2cddb6e9",
   "metadata": {},
   "source": [
    "#### np.sin(a)\n",
    "##### Returns the sin of each vale"
   ]
  },
  {
   "cell_type": "code",
   "execution_count": 52,
   "id": "3a3f721b",
   "metadata": {},
   "outputs": [
    {
     "data": {
      "text/plain": [
       "array([-0.54402111,  0.91294525, -0.98803162, -0.26237485])"
      ]
     },
     "execution_count": 52,
     "metadata": {},
     "output_type": "execute_result"
    }
   ],
   "source": [
    "np.sin(a)"
   ]
  },
  {
   "cell_type": "markdown",
   "id": "5df581fc",
   "metadata": {},
   "source": [
    "#### np.cos(a)\n",
    "##### Returns the cosine of each value"
   ]
  },
  {
   "cell_type": "code",
   "execution_count": 53,
   "id": "7c953aec",
   "metadata": {},
   "outputs": [
    {
     "data": {
      "text/plain": [
       "array([-0.83907153,  0.40808206,  0.15425145,  0.96496603])"
      ]
     },
     "execution_count": 53,
     "metadata": {},
     "output_type": "execute_result"
    }
   ],
   "source": [
    "np.cos(a)"
   ]
  },
  {
   "cell_type": "markdown",
   "id": "086f55a4",
   "metadata": {},
   "source": [
    "#### np.tan(a)\n",
    "##### Returns the tangent of each values"
   ]
  },
  {
   "cell_type": "code",
   "execution_count": 54,
   "id": "ced8be0c",
   "metadata": {},
   "outputs": [
    {
     "data": {
      "text/plain": [
       "array([ 0.64836083,  2.23716094, -6.4053312 , -0.27190061])"
      ]
     },
     "execution_count": 54,
     "metadata": {},
     "output_type": "execute_result"
    }
   ],
   "source": [
    "np.tan(a)"
   ]
  },
  {
   "cell_type": "markdown",
   "id": "9e93bfc4",
   "metadata": {},
   "source": [
    "#### np.log(a)\n",
    "##### Returns the logarithm of each value"
   ]
  },
  {
   "cell_type": "code",
   "execution_count": 55,
   "id": "d007e2b6",
   "metadata": {},
   "outputs": [
    {
     "data": {
      "text/plain": [
       "array([2.30258509, 2.99573227, 3.40119738, 3.91202301])"
      ]
     },
     "execution_count": 55,
     "metadata": {},
     "output_type": "execute_result"
    }
   ],
   "source": [
    "np.log(a)"
   ]
  },
  {
   "cell_type": "markdown",
   "id": "1bee06a8",
   "metadata": {},
   "source": [
    "#### np.sqrt(a)\n",
    "##### Returns the square root of each value"
   ]
  },
  {
   "cell_type": "code",
   "execution_count": 56,
   "id": "3b7f6e87",
   "metadata": {},
   "outputs": [
    {
     "data": {
      "text/plain": [
       "array([3.16227766, 4.47213595, 5.47722558, 7.07106781])"
      ]
     },
     "execution_count": 56,
     "metadata": {},
     "output_type": "execute_result"
    }
   ],
   "source": [
    "np.sqrt(a)"
   ]
  },
  {
   "cell_type": "markdown",
   "id": "7f3a890f",
   "metadata": {},
   "source": [
    "### AGGREGATE FUNCTIONS"
   ]
  },
  {
   "cell_type": "markdown",
   "id": "2461b067",
   "metadata": {},
   "source": [
    "#### a.sum()\n",
    "##### Returns the sum of all values in the array"
   ]
  },
  {
   "cell_type": "code",
   "execution_count": 57,
   "id": "a037edb5",
   "metadata": {},
   "outputs": [
    {
     "data": {
      "text/plain": [
       "110"
      ]
     },
     "execution_count": 57,
     "metadata": {},
     "output_type": "execute_result"
    }
   ],
   "source": [
    "a.sum()"
   ]
  },
  {
   "cell_type": "markdown",
   "id": "2b28c3a1",
   "metadata": {},
   "source": [
    "#### a.min()\n",
    "##### Returns the lowest value of the array"
   ]
  },
  {
   "cell_type": "code",
   "execution_count": 58,
   "id": "8747f85a",
   "metadata": {},
   "outputs": [
    {
     "data": {
      "text/plain": [
       "10"
      ]
     },
     "execution_count": 58,
     "metadata": {},
     "output_type": "execute_result"
    }
   ],
   "source": [
    "a.min()"
   ]
  },
  {
   "cell_type": "markdown",
   "id": "f020bba3",
   "metadata": {},
   "source": [
    "#### a.max()\n",
    "##### Returns the highest value of the array"
   ]
  },
  {
   "cell_type": "code",
   "execution_count": 59,
   "id": "c1e7ea07",
   "metadata": {},
   "outputs": [
    {
     "data": {
      "text/plain": [
       "50"
      ]
     },
     "execution_count": 59,
     "metadata": {},
     "output_type": "execute_result"
    }
   ],
   "source": [
    "a.max()"
   ]
  },
  {
   "cell_type": "markdown",
   "id": "274d2c3a",
   "metadata": {},
   "source": [
    "#### a.mean()\n",
    "##### Return the arithmetic mean of all values in the array"
   ]
  },
  {
   "cell_type": "code",
   "execution_count": 60,
   "id": "abd93bdb",
   "metadata": {},
   "outputs": [
    {
     "data": {
      "text/plain": [
       "27.5"
      ]
     },
     "execution_count": 60,
     "metadata": {},
     "output_type": "execute_result"
    }
   ],
   "source": [
    "a.mean()"
   ]
  },
  {
   "cell_type": "markdown",
   "id": "023c49b4",
   "metadata": {},
   "source": [
    "#### np.median(a)\n",
    "##### Returns the median of all values in the array"
   ]
  },
  {
   "cell_type": "code",
   "execution_count": 61,
   "id": "66e4acb1",
   "metadata": {},
   "outputs": [
    {
     "data": {
      "text/plain": [
       "25.0"
      ]
     },
     "execution_count": 61,
     "metadata": {},
     "output_type": "execute_result"
    }
   ],
   "source": [
    "np.median(a)"
   ]
  },
  {
   "cell_type": "markdown",
   "id": "372a25c5",
   "metadata": {},
   "source": [
    "#### np.std(a)\n",
    "##### Returns the standard deviation of the values in the array"
   ]
  },
  {
   "cell_type": "code",
   "execution_count": 62,
   "id": "252c9223",
   "metadata": {},
   "outputs": [
    {
     "data": {
      "text/plain": [
       "14.79019945774904"
      ]
     },
     "execution_count": 62,
     "metadata": {},
     "output_type": "execute_result"
    }
   ],
   "source": [
    "np.std(a)"
   ]
  },
  {
   "cell_type": "markdown",
   "id": "eecf0001",
   "metadata": {},
   "source": [
    "#### Create some arrays and apply all the functions"
   ]
  },
  {
   "cell_type": "markdown",
   "id": "2c57f027",
   "metadata": {},
   "source": [
    "###### Eg:"
   ]
  },
  {
   "cell_type": "code",
   "execution_count": 63,
   "id": "3ca04f61",
   "metadata": {},
   "outputs": [
    {
     "data": {
      "text/plain": [
       "25.0"
      ]
     },
     "execution_count": 63,
     "metadata": {},
     "output_type": "execute_result"
    }
   ],
   "source": [
    "np.median(b_linspace2)"
   ]
  },
  {
   "cell_type": "code",
   "execution_count": 64,
   "id": "6cda0e02",
   "metadata": {},
   "outputs": [
    {
     "data": {
      "text/plain": [
       "614"
      ]
     },
     "execution_count": 64,
     "metadata": {},
     "output_type": "execute_result"
    }
   ],
   "source": [
    "np.sum(b_linspace2)"
   ]
  },
  {
   "cell_type": "code",
   "execution_count": 65,
   "id": "599168da",
   "metadata": {},
   "outputs": [
    {
     "data": {
      "text/plain": [
       "array([0.        , 1.41421356, 2.        , 2.44948974, 2.82842712,\n",
       "       3.16227766, 3.46410162, 3.74165739, 4.        , 4.24264069,\n",
       "       4.47213595, 4.69041576, 5.        , 5.19615242, 5.38516481,\n",
       "       5.56776436, 5.74456265, 5.91607978, 6.08276253, 6.244998  ,\n",
       "       6.40312424, 6.55743852, 6.70820393, 6.8556546 , 7.07106781])"
      ]
     },
     "execution_count": 65,
     "metadata": {},
     "output_type": "execute_result"
    }
   ],
   "source": [
    "np.sqrt(b_linspace2)"
   ]
  },
  {
   "cell_type": "code",
   "execution_count": 66,
   "id": "a9b85c09",
   "metadata": {},
   "outputs": [
    {
     "data": {
      "text/plain": [
       "14.924020905908701"
      ]
     },
     "execution_count": 66,
     "metadata": {},
     "output_type": "execute_result"
    }
   ],
   "source": [
    "np.std(b_linspace2)"
   ]
  },
  {
   "cell_type": "code",
   "execution_count": 67,
   "id": "38413c09",
   "metadata": {},
   "outputs": [
    {
     "data": {
      "text/plain": [
       "array([ 1.        , -0.41614684, -0.65364362,  0.96017029, -0.14550003,\n",
       "       -0.83907153,  0.84385396,  0.13673722, -0.95765948,  0.66031671,\n",
       "        0.40808206, -0.99996083,  0.99120281, -0.29213881, -0.74805753,\n",
       "        0.91474236, -0.01327675, -0.90369221,  0.76541405,  0.26664293,\n",
       "       -0.98733928,  0.5551133 ,  0.52532199, -0.99233547,  0.96496603])"
      ]
     },
     "execution_count": 67,
     "metadata": {},
     "output_type": "execute_result"
    }
   ],
   "source": [
    "np.cos(b_linspace2)"
   ]
  }
 ],
 "metadata": {
  "kernelspec": {
   "display_name": "Python 3 (ipykernel)",
   "language": "python",
   "name": "python3"
  },
  "language_info": {
   "codemirror_mode": {
    "name": "ipython",
    "version": 3
   },
   "file_extension": ".py",
   "mimetype": "text/x-python",
   "name": "python",
   "nbconvert_exporter": "python",
   "pygments_lexer": "ipython3",
   "version": "3.9.13"
  }
 },
 "nbformat": 4,
 "nbformat_minor": 5
}
