{
 "cells": [
  {
   "cell_type": "markdown",
   "id": "caadeece",
   "metadata": {},
   "source": [
    "### Treating Outliers"
   ]
  },
  {
   "cell_type": "code",
   "execution_count": 35,
   "id": "0a428dc7",
   "metadata": {},
   "outputs": [],
   "source": [
    "import pandas as pd\n",
    "import numpy as np\n",
    "import seaborn as sns\n",
    "import matplotlib.pyplot as plt\n",
    "import warnings\n",
    "warnings.filterwarnings('ignore')\n",
    "import regex as re"
   ]
  },
  {
   "cell_type": "code",
   "execution_count": 36,
   "id": "1686db3f",
   "metadata": {},
   "outputs": [],
   "source": [
    "data=pd.read_csv('./archive (23).zip')"
   ]
  },
  {
   "cell_type": "code",
   "execution_count": 37,
   "id": "f3d9beb2",
   "metadata": {},
   "outputs": [
    {
     "data": {
      "text/html": [
       "<div>\n",
       "<style scoped>\n",
       "    .dataframe tbody tr th:only-of-type {\n",
       "        vertical-align: middle;\n",
       "    }\n",
       "\n",
       "    .dataframe tbody tr th {\n",
       "        vertical-align: top;\n",
       "    }\n",
       "\n",
       "    .dataframe thead th {\n",
       "        text-align: right;\n",
       "    }\n",
       "</style>\n",
       "<table border=\"1\" class=\"dataframe\">\n",
       "  <thead>\n",
       "    <tr style=\"text-align: right;\">\n",
       "      <th></th>\n",
       "      <th>Sales Person</th>\n",
       "      <th>Geography</th>\n",
       "      <th>Product</th>\n",
       "      <th>Amount</th>\n",
       "      <th>Units</th>\n",
       "      <th>cost per unit</th>\n",
       "      <th>Cost</th>\n",
       "      <th>Profit</th>\n",
       "      <th>profit %</th>\n",
       "    </tr>\n",
       "  </thead>\n",
       "  <tbody>\n",
       "    <tr>\n",
       "      <th>0</th>\n",
       "      <td>Ram Mahesh</td>\n",
       "      <td>New Zealand</td>\n",
       "      <td>70% Dark Bites</td>\n",
       "      <td>$1,624</td>\n",
       "      <td>114</td>\n",
       "      <td>14</td>\n",
       "      <td>1,652</td>\n",
       "      <td>($28)</td>\n",
       "      <td>-2%</td>\n",
       "    </tr>\n",
       "    <tr>\n",
       "      <th>1</th>\n",
       "      <td>Brien Boise</td>\n",
       "      <td>USA</td>\n",
       "      <td>Choco Coated Almonds</td>\n",
       "      <td>$6,706</td>\n",
       "      <td>459</td>\n",
       "      <td>9</td>\n",
       "      <td>3,970</td>\n",
       "      <td>$2,736</td>\n",
       "      <td>41%</td>\n",
       "    </tr>\n",
       "    <tr>\n",
       "      <th>2</th>\n",
       "      <td>Husein Augar</td>\n",
       "      <td>USA</td>\n",
       "      <td>Almond Choco</td>\n",
       "      <td>$959</td>\n",
       "      <td>147</td>\n",
       "      <td>12</td>\n",
       "      <td>1,746</td>\n",
       "      <td>($787)</td>\n",
       "      <td>-82%</td>\n",
       "    </tr>\n",
       "    <tr>\n",
       "      <th>3</th>\n",
       "      <td>Carla Molina</td>\n",
       "      <td>Canada</td>\n",
       "      <td>Drinking Coco</td>\n",
       "      <td>$9,632</td>\n",
       "      <td>288</td>\n",
       "      <td>6</td>\n",
       "      <td>1,863</td>\n",
       "      <td>$7,769</td>\n",
       "      <td>81%</td>\n",
       "    </tr>\n",
       "    <tr>\n",
       "      <th>4</th>\n",
       "      <td>Curtice Advani</td>\n",
       "      <td>UK</td>\n",
       "      <td>White Choc</td>\n",
       "      <td>$2,100</td>\n",
       "      <td>414</td>\n",
       "      <td>13</td>\n",
       "      <td>5,444</td>\n",
       "      <td>($3,344)</td>\n",
       "      <td>-159%</td>\n",
       "    </tr>\n",
       "    <tr>\n",
       "      <th>...</th>\n",
       "      <td>...</td>\n",
       "      <td>...</td>\n",
       "      <td>...</td>\n",
       "      <td>...</td>\n",
       "      <td>...</td>\n",
       "      <td>...</td>\n",
       "      <td>...</td>\n",
       "      <td>...</td>\n",
       "      <td>...</td>\n",
       "    </tr>\n",
       "    <tr>\n",
       "      <th>295</th>\n",
       "      <td>Gunar Cockshoot</td>\n",
       "      <td>New Zealand</td>\n",
       "      <td>Almond Choco</td>\n",
       "      <td>$938</td>\n",
       "      <td>366</td>\n",
       "      <td>12</td>\n",
       "      <td>4,348</td>\n",
       "      <td>($3,410)</td>\n",
       "      <td>-364%</td>\n",
       "    </tr>\n",
       "    <tr>\n",
       "      <th>296</th>\n",
       "      <td>Gunar Cockshoot</td>\n",
       "      <td>Australia</td>\n",
       "      <td>Baker's Choco Chips</td>\n",
       "      <td>$8,841</td>\n",
       "      <td>303</td>\n",
       "      <td>6</td>\n",
       "      <td>1,697</td>\n",
       "      <td>$7,144</td>\n",
       "      <td>81%</td>\n",
       "    </tr>\n",
       "    <tr>\n",
       "      <th>297</th>\n",
       "      <td>Barr Faughny</td>\n",
       "      <td>UK</td>\n",
       "      <td>Peanut Butter Cubes</td>\n",
       "      <td>$4,018</td>\n",
       "      <td>126</td>\n",
       "      <td>12</td>\n",
       "      <td>1,559</td>\n",
       "      <td>$2,459</td>\n",
       "      <td>61%</td>\n",
       "    </tr>\n",
       "    <tr>\n",
       "      <th>298</th>\n",
       "      <td>Carla Molina</td>\n",
       "      <td>New Zealand</td>\n",
       "      <td>Raspberry Choco</td>\n",
       "      <td>$714</td>\n",
       "      <td>231</td>\n",
       "      <td>12</td>\n",
       "      <td>2,710</td>\n",
       "      <td>($1,996)</td>\n",
       "      <td>-280%</td>\n",
       "    </tr>\n",
       "    <tr>\n",
       "      <th>299</th>\n",
       "      <td>Husein Augar</td>\n",
       "      <td>Australia</td>\n",
       "      <td>White Choc</td>\n",
       "      <td>$3,850</td>\n",
       "      <td>102</td>\n",
       "      <td>13</td>\n",
       "      <td>1,341</td>\n",
       "      <td>$2,509</td>\n",
       "      <td>65%</td>\n",
       "    </tr>\n",
       "  </tbody>\n",
       "</table>\n",
       "<p>300 rows × 9 columns</p>\n",
       "</div>"
      ],
      "text/plain": [
       "        Sales Person    Geography               Product   Amount  Units  \\\n",
       "0         Ram Mahesh  New Zealand        70% Dark Bites  $1,624     114   \n",
       "1        Brien Boise          USA  Choco Coated Almonds  $6,706     459   \n",
       "2       Husein Augar          USA          Almond Choco    $959     147   \n",
       "3       Carla Molina       Canada         Drinking Coco  $9,632     288   \n",
       "4     Curtice Advani           UK            White Choc  $2,100     414   \n",
       "..               ...          ...                   ...      ...    ...   \n",
       "295  Gunar Cockshoot  New Zealand          Almond Choco    $938     366   \n",
       "296  Gunar Cockshoot    Australia   Baker's Choco Chips  $8,841     303   \n",
       "297     Barr Faughny           UK   Peanut Butter Cubes  $4,018     126   \n",
       "298     Carla Molina  New Zealand       Raspberry Choco    $714     231   \n",
       "299     Husein Augar    Australia            White Choc  $3,850     102   \n",
       "\n",
       "     cost per unit   Cost    Profit profit %  \n",
       "0               14  1,652     ($28)      -2%  \n",
       "1                9  3,970   $2,736       41%  \n",
       "2               12  1,746    ($787)     -82%  \n",
       "3                6  1,863   $7,769       81%  \n",
       "4               13  5,444  ($3,344)    -159%  \n",
       "..             ...    ...       ...      ...  \n",
       "295             12  4,348  ($3,410)    -364%  \n",
       "296              6  1,697   $7,144       81%  \n",
       "297             12  1,559   $2,459       61%  \n",
       "298             12  2,710  ($1,996)    -280%  \n",
       "299             13  1,341   $2,509       65%  \n",
       "\n",
       "[300 rows x 9 columns]"
      ]
     },
     "execution_count": 37,
     "metadata": {},
     "output_type": "execute_result"
    }
   ],
   "source": [
    "data"
   ]
  },
  {
   "cell_type": "code",
   "execution_count": 38,
   "id": "306dd458",
   "metadata": {},
   "outputs": [
    {
     "data": {
      "text/plain": [
       "(300, 9)"
      ]
     },
     "execution_count": 38,
     "metadata": {},
     "output_type": "execute_result"
    }
   ],
   "source": [
    "data.shape"
   ]
  },
  {
   "cell_type": "code",
   "execution_count": 39,
   "id": "0cc31938",
   "metadata": {},
   "outputs": [
    {
     "data": {
      "text/plain": [
       "Sales Person     0\n",
       "Geography        0\n",
       "Product          0\n",
       "Amount           0\n",
       "Units            0\n",
       "cost per unit    0\n",
       "Cost             0\n",
       "Profit           0\n",
       "profit %         0\n",
       "dtype: int64"
      ]
     },
     "execution_count": 39,
     "metadata": {},
     "output_type": "execute_result"
    }
   ],
   "source": [
    "data.isnull().sum()"
   ]
  },
  {
   "cell_type": "markdown",
   "id": "665fb5b4",
   "metadata": {},
   "source": [
    "#### Plotting the box plot for checking outliers"
   ]
  },
  {
   "cell_type": "code",
   "execution_count": 40,
   "id": "84137bce",
   "metadata": {
    "scrolled": true
   },
   "outputs": [
    {
     "data": {
      "image/png": "[encoded data removed]",
      "text/plain": [
       "<Figure size 640x480 with 1 Axes>"
      ]
     },
     "metadata": {},
     "output_type": "display_data"
    }
   ],
   "source": [
    "sns.boxplot(data=data, y= 'cost per unit');"
   ]
  },
  {
   "cell_type": "markdown",
   "id": "d5fee809",
   "metadata": {},
   "source": [
    "#### There is no outlier"
   ]
  },
  {
   "cell_type": "code",
   "execution_count": 41,
   "id": "62670814",
   "metadata": {},
   "outputs": [
    {
     "data": {
      "image/png": "[encoded data removed]",
      "text/plain": [
       "<Figure size 640x480 with 1 Axes>"
      ]
     },
     "metadata": {},
     "output_type": "display_data"
    }
   ],
   "source": [
    "sns.boxplot(data=data, y='Units');"
   ]
  },
  {
   "cell_type": "markdown",
   "id": "1b9c784d",
   "metadata": {},
   "source": [
    "#### There is an outlier\n",
    "#### Setting the outlier limits"
   ]
  },
  {
   "cell_type": "code",
   "execution_count": 42,
   "id": "dc40d587",
   "metadata": {},
   "outputs": [],
   "source": [
    "def outlier_limt(col):\n",
    "    Q3,Q1 = np.nanpercentile(col,[75,25])\n",
    "    IQR = Q3-Q1\n",
    "    UL= Q3+1.5*IQR\n",
    "    LL= Q1-1.5*IQR\n",
    "    return UL,LL"
   ]
  },
  {
   "cell_type": "code",
   "execution_count": 43,
   "id": "10aea8fd",
   "metadata": {},
   "outputs": [],
   "source": [
    "UL,LL = outlier_limt(data['Units'])\n",
    "data['Units']=np.where((data['Units']>UL) | (data['Units']<LL),np.nan,data['Units'])"
   ]
  },
  {
   "cell_type": "markdown",
   "id": "0e2aa7d8",
   "metadata": {},
   "source": [
    "#### Checking the nan values"
   ]
  },
  {
   "cell_type": "code",
   "execution_count": 44,
   "id": "8d8fc601",
   "metadata": {},
   "outputs": [
    {
     "data": {
      "text/plain": [
       "Sales Person     0\n",
       "Geography        0\n",
       "Product          0\n",
       "Amount           0\n",
       "Units            5\n",
       "cost per unit    0\n",
       "Cost             0\n",
       "Profit           0\n",
       "profit %         0\n",
       "dtype: int64"
      ]
     },
     "execution_count": 44,
     "metadata": {},
     "output_type": "execute_result"
    }
   ],
   "source": [
    "data.isnull().sum()"
   ]
  },
  {
   "cell_type": "markdown",
   "id": "13a4d12c",
   "metadata": {},
   "source": [
    "#### We can see that there is 5 outliers present in the Data Frame. We have to drop it."
   ]
  },
  {
   "cell_type": "code",
   "execution_count": 45,
   "id": "e3e1ede0",
   "metadata": {
    "scrolled": true
   },
   "outputs": [
    {
     "data": {
      "image/png": "[encoded data removed]",
      "text/plain": [
       "<Figure size 640x480 with 1 Axes>"
      ]
     },
     "metadata": {},
     "output_type": "display_data"
    }
   ],
   "source": [
    "sns.boxplot(data=data, y='Units',color='r');"
   ]
  },
  {
   "cell_type": "code",
   "execution_count": 46,
   "id": "f2fc2c28",
   "metadata": {},
   "outputs": [
    {
     "data": {
      "text/html": [
       "<div>\n",
       "<style scoped>\n",
       "    .dataframe tbody tr th:only-of-type {\n",
       "        vertical-align: middle;\n",
       "    }\n",
       "\n",
       "    .dataframe tbody tr th {\n",
       "        vertical-align: top;\n",
       "    }\n",
       "\n",
       "    .dataframe thead th {\n",
       "        text-align: right;\n",
       "    }\n",
       "</style>\n",
       "<table border=\"1\" class=\"dataframe\">\n",
       "  <thead>\n",
       "    <tr style=\"text-align: right;\">\n",
       "      <th></th>\n",
       "      <th>Sales Person</th>\n",
       "      <th>Geography</th>\n",
       "      <th>Product</th>\n",
       "      <th>Amount</th>\n",
       "      <th>Units</th>\n",
       "      <th>cost per unit</th>\n",
       "      <th>Cost</th>\n",
       "      <th>Profit</th>\n",
       "      <th>profit %</th>\n",
       "    </tr>\n",
       "  </thead>\n",
       "  <tbody>\n",
       "    <tr>\n",
       "      <th>0</th>\n",
       "      <td>Ram Mahesh</td>\n",
       "      <td>New Zealand</td>\n",
       "      <td>70% Dark Bites</td>\n",
       "      <td>$1,624</td>\n",
       "      <td>114.0</td>\n",
       "      <td>14</td>\n",
       "      <td>1,652</td>\n",
       "      <td>($28)</td>\n",
       "      <td>-2%</td>\n",
       "    </tr>\n",
       "    <tr>\n",
       "      <th>1</th>\n",
       "      <td>Brien Boise</td>\n",
       "      <td>USA</td>\n",
       "      <td>Choco Coated Almonds</td>\n",
       "      <td>$6,706</td>\n",
       "      <td>459.0</td>\n",
       "      <td>9</td>\n",
       "      <td>3,970</td>\n",
       "      <td>$2,736</td>\n",
       "      <td>41%</td>\n",
       "    </tr>\n",
       "    <tr>\n",
       "      <th>2</th>\n",
       "      <td>Husein Augar</td>\n",
       "      <td>USA</td>\n",
       "      <td>Almond Choco</td>\n",
       "      <td>$959</td>\n",
       "      <td>147.0</td>\n",
       "      <td>12</td>\n",
       "      <td>1,746</td>\n",
       "      <td>($787)</td>\n",
       "      <td>-82%</td>\n",
       "    </tr>\n",
       "    <tr>\n",
       "      <th>3</th>\n",
       "      <td>Carla Molina</td>\n",
       "      <td>Canada</td>\n",
       "      <td>Drinking Coco</td>\n",
       "      <td>$9,632</td>\n",
       "      <td>288.0</td>\n",
       "      <td>6</td>\n",
       "      <td>1,863</td>\n",
       "      <td>$7,769</td>\n",
       "      <td>81%</td>\n",
       "    </tr>\n",
       "    <tr>\n",
       "      <th>4</th>\n",
       "      <td>Curtice Advani</td>\n",
       "      <td>UK</td>\n",
       "      <td>White Choc</td>\n",
       "      <td>$2,100</td>\n",
       "      <td>414.0</td>\n",
       "      <td>13</td>\n",
       "      <td>5,444</td>\n",
       "      <td>($3,344)</td>\n",
       "      <td>-159%</td>\n",
       "    </tr>\n",
       "  </tbody>\n",
       "</table>\n",
       "</div>"
      ],
      "text/plain": [
       "     Sales Person    Geography               Product   Amount  Units  \\\n",
       "0      Ram Mahesh  New Zealand        70% Dark Bites  $1,624   114.0   \n",
       "1     Brien Boise          USA  Choco Coated Almonds  $6,706   459.0   \n",
       "2    Husein Augar          USA          Almond Choco    $959   147.0   \n",
       "3    Carla Molina       Canada         Drinking Coco  $9,632   288.0   \n",
       "4  Curtice Advani           UK            White Choc  $2,100   414.0   \n",
       "\n",
       "   cost per unit   Cost    Profit profit %  \n",
       "0             14  1,652     ($28)      -2%  \n",
       "1              9  3,970   $2,736       41%  \n",
       "2             12  1,746    ($787)     -82%  \n",
       "3              6  1,863   $7,769       81%  \n",
       "4             13  5,444  ($3,344)    -159%  "
      ]
     },
     "execution_count": 46,
     "metadata": {},
     "output_type": "execute_result"
    }
   ],
   "source": [
    "data.dropna(inplace=True)\n",
    "data.head()"
   ]
  },
  {
   "cell_type": "code",
   "execution_count": 47,
   "id": "062de465",
   "metadata": {},
   "outputs": [
    {
     "data": {
      "text/plain": [
       "(295, 9)"
      ]
     },
     "execution_count": 47,
     "metadata": {},
     "output_type": "execute_result"
    }
   ],
   "source": [
    "data.shape"
   ]
  },
  {
   "cell_type": "code",
   "execution_count": 49,
   "id": "ce776c18",
   "metadata": {},
   "outputs": [],
   "source": [
    "data['amount']=data.Amount.str.replace('\\D','',regex=True)\n",
    "data['cost']=data.Cost.str.replace('\\D','',regex=True)"
   ]
  },
  {
   "cell_type": "code",
   "execution_count": 50,
   "id": "deb0e203",
   "metadata": {},
   "outputs": [
    {
     "data": {
      "text/html": [
       "<div>\n",
       "<style scoped>\n",
       "    .dataframe tbody tr th:only-of-type {\n",
       "        vertical-align: middle;\n",
       "    }\n",
       "\n",
       "    .dataframe tbody tr th {\n",
       "        vertical-align: top;\n",
       "    }\n",
       "\n",
       "    .dataframe thead th {\n",
       "        text-align: right;\n",
       "    }\n",
       "</style>\n",
       "<table border=\"1\" class=\"dataframe\">\n",
       "  <thead>\n",
       "    <tr style=\"text-align: right;\">\n",
       "      <th></th>\n",
       "      <th>Sales Person</th>\n",
       "      <th>Geography</th>\n",
       "      <th>Product</th>\n",
       "      <th>Amount</th>\n",
       "      <th>Units</th>\n",
       "      <th>cost per unit</th>\n",
       "      <th>Cost</th>\n",
       "      <th>Profit</th>\n",
       "      <th>profit %</th>\n",
       "      <th>amount</th>\n",
       "      <th>cost</th>\n",
       "    </tr>\n",
       "  </thead>\n",
       "  <tbody>\n",
       "    <tr>\n",
       "      <th>250</th>\n",
       "      <td>Ches Bonnell</td>\n",
       "      <td>USA</td>\n",
       "      <td>Caramel Stuffed Bars</td>\n",
       "      <td>$5,194</td>\n",
       "      <td>288.0</td>\n",
       "      <td>10</td>\n",
       "      <td>2,989</td>\n",
       "      <td>$2,205</td>\n",
       "      <td>42%</td>\n",
       "      <td>5194</td>\n",
       "      <td>2989</td>\n",
       "    </tr>\n",
       "  </tbody>\n",
       "</table>\n",
       "</div>"
      ],
      "text/plain": [
       "     Sales Person Geography               Product   Amount  Units  \\\n",
       "250  Ches Bonnell       USA  Caramel Stuffed Bars  $5,194   288.0   \n",
       "\n",
       "     cost per unit   Cost   Profit profit % amount  cost  \n",
       "250             10  2,989  $2,205       42%   5194  2989  "
      ]
     },
     "execution_count": 50,
     "metadata": {},
     "output_type": "execute_result"
    }
   ],
   "source": [
    "data.sample()"
   ]
  },
  {
   "cell_type": "code",
   "execution_count": 54,
   "id": "0be968d6",
   "metadata": {},
   "outputs": [],
   "source": [
    "data['amount']=data['amount'].astype('int')\n",
    "data['cost']=data['cost'].astype('int')"
   ]
  },
  {
   "cell_type": "code",
   "execution_count": 55,
   "id": "53b9cc42",
   "metadata": {},
   "outputs": [
    {
     "data": {
      "image/png": "[encoded data removed]",
      "text/plain": [
       "<Figure size 640x480 with 1 Axes>"
      ]
     },
     "metadata": {},
     "output_type": "display_data"
    }
   ],
   "source": [
    "sns.boxplot(data=data , y='cost');"
   ]
  },
  {
   "cell_type": "code",
   "execution_count": 56,
   "id": "03793ced",
   "metadata": {},
   "outputs": [],
   "source": [
    "UL,LL = outlier_limt(data['cost'])\n",
    "data['cost']=np.where((data['cost']>UL)| (data['cost']<LL),np.nan,data['cost'])"
   ]
  },
  {
   "cell_type": "code",
   "execution_count": 57,
   "id": "660cf86e",
   "metadata": {},
   "outputs": [
    {
     "data": {
      "text/plain": [
       "Sales Person      0\n",
       "Geography         0\n",
       "Product           0\n",
       "Amount            0\n",
       "Units             0\n",
       "cost per unit     0\n",
       "Cost              0\n",
       "Profit            0\n",
       "profit %          0\n",
       "amount            0\n",
       "cost             13\n",
       "dtype: int64"
      ]
     },
     "execution_count": 57,
     "metadata": {},
     "output_type": "execute_result"
    }
   ],
   "source": [
    "data.isnull().sum()"
   ]
  },
  {
   "cell_type": "code",
   "execution_count": null,
   "id": "4cb84580",
   "metadata": {},
   "outputs": [],
   "source": []
  }
 ],
 "metadata": {
  "kernelspec": {
   "display_name": "Python 3 (ipykernel)",
   "language": "python",
   "name": "python3"
  },
  "language_info": {
   "codemirror_mode": {
    "name": "ipython",
    "version": 3
   },
   "file_extension": ".py",
   "mimetype": "text/x-python",
   "name": "python",
   "nbconvert_exporter": "python",
   "pygments_lexer": "ipython3",
   "version": "3.9.13"
  }
 },
 "nbformat": 4,
 "nbformat_minor": 5
}
