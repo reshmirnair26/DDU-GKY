{
 "cells": [
  {
   "cell_type": "markdown",
   "id": "ca8eb8ff",
   "metadata": {},
   "source": [
    "## Filling Missing Values"
   ]
  },
  {
   "cell_type": "code",
   "execution_count": 4,
   "id": "137f300e",
   "metadata": {},
   "outputs": [],
   "source": [
    "import pandas as pd\n",
    "import numpy as np\n",
    "import warnings \n",
    "warnings.filterwarnings('ignore')"
   ]
  },
  {
   "cell_type": "code",
   "execution_count": 3,
   "id": "1e638531",
   "metadata": {},
   "outputs": [
    {
     "data": {
      "text/html": [
       "<div>\n",
       "<style scoped>\n",
       "    .dataframe tbody tr th:only-of-type {\n",
       "        vertical-align: middle;\n",
       "    }\n",
       "\n",
       "    .dataframe tbody tr th {\n",
       "        vertical-align: top;\n",
       "    }\n",
       "\n",
       "    .dataframe thead th {\n",
       "        text-align: right;\n",
       "    }\n",
       "</style>\n",
       "<table border=\"1\" class=\"dataframe\">\n",
       "  <thead>\n",
       "    <tr style=\"text-align: right;\">\n",
       "      <th></th>\n",
       "      <th>date</th>\n",
       "      <th>temperature</th>\n",
       "      <th>windSpeed</th>\n",
       "      <th>status</th>\n",
       "    </tr>\n",
       "  </thead>\n",
       "  <tbody>\n",
       "    <tr>\n",
       "      <th>0</th>\n",
       "      <td>2020-05-06</td>\n",
       "      <td>35.6582</td>\n",
       "      <td>10.788378</td>\n",
       "      <td>sunny</td>\n",
       "    </tr>\n",
       "    <tr>\n",
       "      <th>1</th>\n",
       "      <td>2020-05-07</td>\n",
       "      <td>NaN</td>\n",
       "      <td>NaN</td>\n",
       "      <td>NaN</td>\n",
       "    </tr>\n",
       "    <tr>\n",
       "      <th>2</th>\n",
       "      <td>2020-05-08</td>\n",
       "      <td>30.9343</td>\n",
       "      <td>NaN</td>\n",
       "      <td>rainy</td>\n",
       "    </tr>\n",
       "    <tr>\n",
       "      <th>3</th>\n",
       "      <td>2020-05-09</td>\n",
       "      <td>NaN</td>\n",
       "      <td>6.889682</td>\n",
       "      <td>cloudy</td>\n",
       "    </tr>\n",
       "    <tr>\n",
       "      <th>4</th>\n",
       "      <td>2020-05-10</td>\n",
       "      <td>13.9082</td>\n",
       "      <td>19.012990</td>\n",
       "      <td>rainy</td>\n",
       "    </tr>\n",
       "  </tbody>\n",
       "</table>\n",
       "</div>"
      ],
      "text/plain": [
       "        date  temperature  windSpeed  status\n",
       "0 2020-05-06      35.6582  10.788378   sunny\n",
       "1 2020-05-07          NaN        NaN     NaN\n",
       "2 2020-05-08      30.9343        NaN   rainy\n",
       "3 2020-05-09          NaN   6.889682  cloudy\n",
       "4 2020-05-10      13.9082  19.012990   rainy"
      ]
     },
     "execution_count": 3,
     "metadata": {},
     "output_type": "execute_result"
    }
   ],
   "source": [
    "data=pd.read_excel('./fill_na.xlsx')\n",
    "data.head(5)"
   ]
  },
  {
   "cell_type": "markdown",
   "id": "94fa9239",
   "metadata": {},
   "source": [
    "## Filling a common value to a missing data"
   ]
  },
  {
   "cell_type": "code",
   "execution_count": 5,
   "id": "c3c61adf",
   "metadata": {},
   "outputs": [
    {
     "data": {
      "text/html": [
       "<div>\n",
       "<style scoped>\n",
       "    .dataframe tbody tr th:only-of-type {\n",
       "        vertical-align: middle;\n",
       "    }\n",
       "\n",
       "    .dataframe tbody tr th {\n",
       "        vertical-align: top;\n",
       "    }\n",
       "\n",
       "    .dataframe thead th {\n",
       "        text-align: right;\n",
       "    }\n",
       "</style>\n",
       "<table border=\"1\" class=\"dataframe\">\n",
       "  <thead>\n",
       "    <tr style=\"text-align: right;\">\n",
       "      <th></th>\n",
       "      <th>date</th>\n",
       "      <th>temperature</th>\n",
       "      <th>windSpeed</th>\n",
       "      <th>status</th>\n",
       "    </tr>\n",
       "  </thead>\n",
       "  <tbody>\n",
       "    <tr>\n",
       "      <th>0</th>\n",
       "      <td>2020-05-06</td>\n",
       "      <td>35.6582</td>\n",
       "      <td>10.788378</td>\n",
       "      <td>sunny</td>\n",
       "    </tr>\n",
       "    <tr>\n",
       "      <th>1</th>\n",
       "      <td>2020-05-07</td>\n",
       "      <td>2.0000</td>\n",
       "      <td>2.000000</td>\n",
       "      <td>2</td>\n",
       "    </tr>\n",
       "    <tr>\n",
       "      <th>2</th>\n",
       "      <td>2020-05-08</td>\n",
       "      <td>30.9343</td>\n",
       "      <td>2.000000</td>\n",
       "      <td>rainy</td>\n",
       "    </tr>\n",
       "    <tr>\n",
       "      <th>3</th>\n",
       "      <td>2020-05-09</td>\n",
       "      <td>2.0000</td>\n",
       "      <td>6.889682</td>\n",
       "      <td>cloudy</td>\n",
       "    </tr>\n",
       "    <tr>\n",
       "      <th>4</th>\n",
       "      <td>2020-05-10</td>\n",
       "      <td>13.9082</td>\n",
       "      <td>19.012990</td>\n",
       "      <td>rainy</td>\n",
       "    </tr>\n",
       "    <tr>\n",
       "      <th>5</th>\n",
       "      <td>2020-05-11</td>\n",
       "      <td>23.9382</td>\n",
       "      <td>2.000000</td>\n",
       "      <td>sunny</td>\n",
       "    </tr>\n",
       "  </tbody>\n",
       "</table>\n",
       "</div>"
      ],
      "text/plain": [
       "        date  temperature  windSpeed  status\n",
       "0 2020-05-06      35.6582  10.788378   sunny\n",
       "1 2020-05-07       2.0000   2.000000       2\n",
       "2 2020-05-08      30.9343   2.000000   rainy\n",
       "3 2020-05-09       2.0000   6.889682  cloudy\n",
       "4 2020-05-10      13.9082  19.012990   rainy\n",
       "5 2020-05-11      23.9382   2.000000   sunny"
      ]
     },
     "execution_count": 5,
     "metadata": {},
     "output_type": "execute_result"
    }
   ],
   "source": [
    "data.fillna(2)"
   ]
  },
  {
   "cell_type": "markdown",
   "id": "d8b1ad23",
   "metadata": {},
   "source": [
    "## Adding missing data to individual columns"
   ]
  },
  {
   "cell_type": "code",
   "execution_count": 7,
   "id": "a6d0aa7d",
   "metadata": {},
   "outputs": [
    {
     "data": {
      "text/html": [
       "<div>\n",
       "<style scoped>\n",
       "    .dataframe tbody tr th:only-of-type {\n",
       "        vertical-align: middle;\n",
       "    }\n",
       "\n",
       "    .dataframe tbody tr th {\n",
       "        vertical-align: top;\n",
       "    }\n",
       "\n",
       "    .dataframe thead th {\n",
       "        text-align: right;\n",
       "    }\n",
       "</style>\n",
       "<table border=\"1\" class=\"dataframe\">\n",
       "  <thead>\n",
       "    <tr style=\"text-align: right;\">\n",
       "      <th></th>\n",
       "      <th>date</th>\n",
       "      <th>temperature</th>\n",
       "      <th>windSpeed</th>\n",
       "      <th>status</th>\n",
       "    </tr>\n",
       "  </thead>\n",
       "  <tbody>\n",
       "    <tr>\n",
       "      <th>0</th>\n",
       "      <td>2020-05-06</td>\n",
       "      <td>35.6582</td>\n",
       "      <td>10.788378</td>\n",
       "      <td>sunny</td>\n",
       "    </tr>\n",
       "    <tr>\n",
       "      <th>1</th>\n",
       "      <td>2020-05-07</td>\n",
       "      <td>NaN</td>\n",
       "      <td>10.000000</td>\n",
       "      <td>rainy</td>\n",
       "    </tr>\n",
       "    <tr>\n",
       "      <th>2</th>\n",
       "      <td>2020-05-08</td>\n",
       "      <td>30.9343</td>\n",
       "      <td>10.000000</td>\n",
       "      <td>rainy</td>\n",
       "    </tr>\n",
       "    <tr>\n",
       "      <th>3</th>\n",
       "      <td>2020-05-09</td>\n",
       "      <td>NaN</td>\n",
       "      <td>6.889682</td>\n",
       "      <td>cloudy</td>\n",
       "    </tr>\n",
       "    <tr>\n",
       "      <th>4</th>\n",
       "      <td>2020-05-10</td>\n",
       "      <td>13.9082</td>\n",
       "      <td>19.012990</td>\n",
       "      <td>rainy</td>\n",
       "    </tr>\n",
       "    <tr>\n",
       "      <th>5</th>\n",
       "      <td>2020-05-11</td>\n",
       "      <td>23.9382</td>\n",
       "      <td>10.000000</td>\n",
       "      <td>sunny</td>\n",
       "    </tr>\n",
       "  </tbody>\n",
       "</table>\n",
       "</div>"
      ],
      "text/plain": [
       "        date  temperature  windSpeed  status\n",
       "0 2020-05-06      35.6582  10.788378   sunny\n",
       "1 2020-05-07          NaN  10.000000   rainy\n",
       "2 2020-05-08      30.9343  10.000000   rainy\n",
       "3 2020-05-09          NaN   6.889682  cloudy\n",
       "4 2020-05-10      13.9082  19.012990   rainy\n",
       "5 2020-05-11      23.9382  10.000000   sunny"
      ]
     },
     "execution_count": 7,
     "metadata": {},
     "output_type": "execute_result"
    }
   ],
   "source": [
    "data.fillna({'temerature':1,'windSpeed':10,'status':'rainy'})"
   ]
  },
  {
   "cell_type": "markdown",
   "id": "7058956c",
   "metadata": {},
   "source": [
    "## We can access individual columns by an alternate way also"
   ]
  },
  {
   "cell_type": "code",
   "execution_count": 8,
   "id": "a5058f10",
   "metadata": {},
   "outputs": [
    {
     "data": {
      "text/plain": [
       "0     sunny\n",
       "1     windy\n",
       "2     rainy\n",
       "3    cloudy\n",
       "4     rainy\n",
       "5     sunny\n",
       "Name: status, dtype: object"
      ]
     },
     "execution_count": 8,
     "metadata": {},
     "output_type": "execute_result"
    }
   ],
   "source": [
    "data.status.fillna('windy')"
   ]
  },
  {
   "cell_type": "markdown",
   "id": "3fc200cd",
   "metadata": {},
   "source": [
    "## Forward fill (row)\n",
    "\n",
    "Forward fill is a method to forward the data from the row above the missing value. Thus all the\n",
    "missing value will get filled with the value above. If there are multiple missing values\n",
    "consecutively , they will also get filled with the same value of the above available data."
   ]
  },
  {
   "cell_type": "code",
   "execution_count": 9,
   "id": "753f42b2",
   "metadata": {},
   "outputs": [
    {
     "data": {
      "text/html": [
       "<div>\n",
       "<style scoped>\n",
       "    .dataframe tbody tr th:only-of-type {\n",
       "        vertical-align: middle;\n",
       "    }\n",
       "\n",
       "    .dataframe tbody tr th {\n",
       "        vertical-align: top;\n",
       "    }\n",
       "\n",
       "    .dataframe thead th {\n",
       "        text-align: right;\n",
       "    }\n",
       "</style>\n",
       "<table border=\"1\" class=\"dataframe\">\n",
       "  <thead>\n",
       "    <tr style=\"text-align: right;\">\n",
       "      <th></th>\n",
       "      <th>date</th>\n",
       "      <th>temperature</th>\n",
       "      <th>windSpeed</th>\n",
       "      <th>status</th>\n",
       "    </tr>\n",
       "  </thead>\n",
       "  <tbody>\n",
       "    <tr>\n",
       "      <th>0</th>\n",
       "      <td>2020-05-06</td>\n",
       "      <td>35.6582</td>\n",
       "      <td>10.788378</td>\n",
       "      <td>sunny</td>\n",
       "    </tr>\n",
       "    <tr>\n",
       "      <th>1</th>\n",
       "      <td>2020-05-07</td>\n",
       "      <td>35.6582</td>\n",
       "      <td>10.788378</td>\n",
       "      <td>sunny</td>\n",
       "    </tr>\n",
       "    <tr>\n",
       "      <th>2</th>\n",
       "      <td>2020-05-08</td>\n",
       "      <td>30.9343</td>\n",
       "      <td>10.788378</td>\n",
       "      <td>rainy</td>\n",
       "    </tr>\n",
       "    <tr>\n",
       "      <th>3</th>\n",
       "      <td>2020-05-09</td>\n",
       "      <td>30.9343</td>\n",
       "      <td>6.889682</td>\n",
       "      <td>cloudy</td>\n",
       "    </tr>\n",
       "    <tr>\n",
       "      <th>4</th>\n",
       "      <td>2020-05-10</td>\n",
       "      <td>13.9082</td>\n",
       "      <td>19.012990</td>\n",
       "      <td>rainy</td>\n",
       "    </tr>\n",
       "    <tr>\n",
       "      <th>5</th>\n",
       "      <td>2020-05-11</td>\n",
       "      <td>23.9382</td>\n",
       "      <td>19.012990</td>\n",
       "      <td>sunny</td>\n",
       "    </tr>\n",
       "  </tbody>\n",
       "</table>\n",
       "</div>"
      ],
      "text/plain": [
       "        date  temperature  windSpeed  status\n",
       "0 2020-05-06      35.6582  10.788378   sunny\n",
       "1 2020-05-07      35.6582  10.788378   sunny\n",
       "2 2020-05-08      30.9343  10.788378   rainy\n",
       "3 2020-05-09      30.9343   6.889682  cloudy\n",
       "4 2020-05-10      13.9082  19.012990   rainy\n",
       "5 2020-05-11      23.9382  19.012990   sunny"
      ]
     },
     "execution_count": 9,
     "metadata": {},
     "output_type": "execute_result"
    }
   ],
   "source": [
    "data.fillna(method='ffill')"
   ]
  },
  {
   "cell_type": "markdown",
   "id": "72fd5c80",
   "metadata": {},
   "source": [
    "## Backward fill (row)"
   ]
  },
  {
   "cell_type": "code",
   "execution_count": 10,
   "id": "cf15d4f1",
   "metadata": {},
   "outputs": [
    {
     "data": {
      "text/html": [
       "<div>\n",
       "<style scoped>\n",
       "    .dataframe tbody tr th:only-of-type {\n",
       "        vertical-align: middle;\n",
       "    }\n",
       "\n",
       "    .dataframe tbody tr th {\n",
       "        vertical-align: top;\n",
       "    }\n",
       "\n",
       "    .dataframe thead th {\n",
       "        text-align: right;\n",
       "    }\n",
       "</style>\n",
       "<table border=\"1\" class=\"dataframe\">\n",
       "  <thead>\n",
       "    <tr style=\"text-align: right;\">\n",
       "      <th></th>\n",
       "      <th>date</th>\n",
       "      <th>temperature</th>\n",
       "      <th>windSpeed</th>\n",
       "      <th>status</th>\n",
       "    </tr>\n",
       "  </thead>\n",
       "  <tbody>\n",
       "    <tr>\n",
       "      <th>0</th>\n",
       "      <td>2020-05-06</td>\n",
       "      <td>35.6582</td>\n",
       "      <td>10.788378</td>\n",
       "      <td>sunny</td>\n",
       "    </tr>\n",
       "    <tr>\n",
       "      <th>1</th>\n",
       "      <td>2020-05-07</td>\n",
       "      <td>30.9343</td>\n",
       "      <td>6.889682</td>\n",
       "      <td>rainy</td>\n",
       "    </tr>\n",
       "    <tr>\n",
       "      <th>2</th>\n",
       "      <td>2020-05-08</td>\n",
       "      <td>30.9343</td>\n",
       "      <td>6.889682</td>\n",
       "      <td>rainy</td>\n",
       "    </tr>\n",
       "    <tr>\n",
       "      <th>3</th>\n",
       "      <td>2020-05-09</td>\n",
       "      <td>13.9082</td>\n",
       "      <td>6.889682</td>\n",
       "      <td>cloudy</td>\n",
       "    </tr>\n",
       "    <tr>\n",
       "      <th>4</th>\n",
       "      <td>2020-05-10</td>\n",
       "      <td>13.9082</td>\n",
       "      <td>19.012990</td>\n",
       "      <td>rainy</td>\n",
       "    </tr>\n",
       "    <tr>\n",
       "      <th>5</th>\n",
       "      <td>2020-05-11</td>\n",
       "      <td>23.9382</td>\n",
       "      <td>NaN</td>\n",
       "      <td>sunny</td>\n",
       "    </tr>\n",
       "  </tbody>\n",
       "</table>\n",
       "</div>"
      ],
      "text/plain": [
       "        date  temperature  windSpeed  status\n",
       "0 2020-05-06      35.6582  10.788378   sunny\n",
       "1 2020-05-07      30.9343   6.889682   rainy\n",
       "2 2020-05-08      30.9343   6.889682   rainy\n",
       "3 2020-05-09      13.9082   6.889682  cloudy\n",
       "4 2020-05-10      13.9082  19.012990   rainy\n",
       "5 2020-05-11      23.9382        NaN   sunny"
      ]
     },
     "execution_count": 10,
     "metadata": {},
     "output_type": "execute_result"
    }
   ],
   "source": [
    "data.fillna(method='bfill')"
   ]
  },
  {
   "cell_type": "markdown",
   "id": "6b2856cc",
   "metadata": {},
   "source": [
    "## Forward fill (column)"
   ]
  },
  {
   "cell_type": "code",
   "execution_count": 12,
   "id": "30209fd3",
   "metadata": {},
   "outputs": [
    {
     "data": {
      "text/html": [
       "<div>\n",
       "<style scoped>\n",
       "    .dataframe tbody tr th:only-of-type {\n",
       "        vertical-align: middle;\n",
       "    }\n",
       "\n",
       "    .dataframe tbody tr th {\n",
       "        vertical-align: top;\n",
       "    }\n",
       "\n",
       "    .dataframe thead th {\n",
       "        text-align: right;\n",
       "    }\n",
       "</style>\n",
       "<table border=\"1\" class=\"dataframe\">\n",
       "  <thead>\n",
       "    <tr style=\"text-align: right;\">\n",
       "      <th></th>\n",
       "      <th>date</th>\n",
       "      <th>temperature</th>\n",
       "      <th>windSpeed</th>\n",
       "      <th>status</th>\n",
       "    </tr>\n",
       "  </thead>\n",
       "  <tbody>\n",
       "    <tr>\n",
       "      <th>0</th>\n",
       "      <td>2020-05-06</td>\n",
       "      <td>35.6582</td>\n",
       "      <td>10.788378</td>\n",
       "      <td>sunny</td>\n",
       "    </tr>\n",
       "    <tr>\n",
       "      <th>1</th>\n",
       "      <td>2020-05-07</td>\n",
       "      <td>2020-05-07 00:00:00</td>\n",
       "      <td>2020-05-07 00:00:00</td>\n",
       "      <td>2020-05-07 00:00:00</td>\n",
       "    </tr>\n",
       "    <tr>\n",
       "      <th>2</th>\n",
       "      <td>2020-05-08</td>\n",
       "      <td>30.9343</td>\n",
       "      <td>30.9343</td>\n",
       "      <td>rainy</td>\n",
       "    </tr>\n",
       "    <tr>\n",
       "      <th>3</th>\n",
       "      <td>2020-05-09</td>\n",
       "      <td>2020-05-09 00:00:00</td>\n",
       "      <td>6.889682</td>\n",
       "      <td>cloudy</td>\n",
       "    </tr>\n",
       "    <tr>\n",
       "      <th>4</th>\n",
       "      <td>2020-05-10</td>\n",
       "      <td>13.9082</td>\n",
       "      <td>19.01299</td>\n",
       "      <td>rainy</td>\n",
       "    </tr>\n",
       "    <tr>\n",
       "      <th>5</th>\n",
       "      <td>2020-05-11</td>\n",
       "      <td>23.9382</td>\n",
       "      <td>23.9382</td>\n",
       "      <td>sunny</td>\n",
       "    </tr>\n",
       "  </tbody>\n",
       "</table>\n",
       "</div>"
      ],
      "text/plain": [
       "        date          temperature            windSpeed               status\n",
       "0 2020-05-06              35.6582            10.788378                sunny\n",
       "1 2020-05-07  2020-05-07 00:00:00  2020-05-07 00:00:00  2020-05-07 00:00:00\n",
       "2 2020-05-08              30.9343              30.9343                rainy\n",
       "3 2020-05-09  2020-05-09 00:00:00             6.889682               cloudy\n",
       "4 2020-05-10              13.9082             19.01299                rainy\n",
       "5 2020-05-11              23.9382              23.9382                sunny"
      ]
     },
     "execution_count": 12,
     "metadata": {},
     "output_type": "execute_result"
    }
   ],
   "source": [
    "data.fillna(method='ffill',axis='columns')"
   ]
  },
  {
   "cell_type": "markdown",
   "id": "6390d5cc",
   "metadata": {},
   "source": [
    "## Backward fill(column)"
   ]
  },
  {
   "cell_type": "code",
   "execution_count": 13,
   "id": "49be2f58",
   "metadata": {},
   "outputs": [
    {
     "data": {
      "text/html": [
       "<div>\n",
       "<style scoped>\n",
       "    .dataframe tbody tr th:only-of-type {\n",
       "        vertical-align: middle;\n",
       "    }\n",
       "\n",
       "    .dataframe tbody tr th {\n",
       "        vertical-align: top;\n",
       "    }\n",
       "\n",
       "    .dataframe thead th {\n",
       "        text-align: right;\n",
       "    }\n",
       "</style>\n",
       "<table border=\"1\" class=\"dataframe\">\n",
       "  <thead>\n",
       "    <tr style=\"text-align: right;\">\n",
       "      <th></th>\n",
       "      <th>date</th>\n",
       "      <th>temperature</th>\n",
       "      <th>windSpeed</th>\n",
       "      <th>status</th>\n",
       "    </tr>\n",
       "  </thead>\n",
       "  <tbody>\n",
       "    <tr>\n",
       "      <th>0</th>\n",
       "      <td>2020-05-06</td>\n",
       "      <td>35.6582</td>\n",
       "      <td>10.788378</td>\n",
       "      <td>sunny</td>\n",
       "    </tr>\n",
       "    <tr>\n",
       "      <th>1</th>\n",
       "      <td>2020-05-07</td>\n",
       "      <td>NaT</td>\n",
       "      <td>NaT</td>\n",
       "      <td>NaT</td>\n",
       "    </tr>\n",
       "    <tr>\n",
       "      <th>2</th>\n",
       "      <td>2020-05-08</td>\n",
       "      <td>30.9343</td>\n",
       "      <td>rainy</td>\n",
       "      <td>rainy</td>\n",
       "    </tr>\n",
       "    <tr>\n",
       "      <th>3</th>\n",
       "      <td>2020-05-09</td>\n",
       "      <td>6.889682</td>\n",
       "      <td>6.889682</td>\n",
       "      <td>cloudy</td>\n",
       "    </tr>\n",
       "    <tr>\n",
       "      <th>4</th>\n",
       "      <td>2020-05-10</td>\n",
       "      <td>13.9082</td>\n",
       "      <td>19.01299</td>\n",
       "      <td>rainy</td>\n",
       "    </tr>\n",
       "    <tr>\n",
       "      <th>5</th>\n",
       "      <td>2020-05-11</td>\n",
       "      <td>23.9382</td>\n",
       "      <td>sunny</td>\n",
       "      <td>sunny</td>\n",
       "    </tr>\n",
       "  </tbody>\n",
       "</table>\n",
       "</div>"
      ],
      "text/plain": [
       "        date temperature  windSpeed  status\n",
       "0 2020-05-06     35.6582  10.788378   sunny\n",
       "1 2020-05-07         NaT        NaT     NaT\n",
       "2 2020-05-08     30.9343      rainy   rainy\n",
       "3 2020-05-09    6.889682   6.889682  cloudy\n",
       "4 2020-05-10     13.9082   19.01299   rainy\n",
       "5 2020-05-11     23.9382      sunny   sunny"
      ]
     },
     "execution_count": 13,
     "metadata": {},
     "output_type": "execute_result"
    }
   ],
   "source": [
    "data.fillna(method='bfill',axis='columns')"
   ]
  },
  {
   "cell_type": "markdown",
   "id": "beb8ff6b",
   "metadata": {},
   "source": [
    "## Limiting the forward/backward fill\n",
    "\n",
    "We can limit the number of rows or columns getting filled."
   ]
  },
  {
   "cell_type": "code",
   "execution_count": 14,
   "id": "6fe6d4b1",
   "metadata": {},
   "outputs": [
    {
     "data": {
      "text/html": [
       "<div>\n",
       "<style scoped>\n",
       "    .dataframe tbody tr th:only-of-type {\n",
       "        vertical-align: middle;\n",
       "    }\n",
       "\n",
       "    .dataframe tbody tr th {\n",
       "        vertical-align: top;\n",
       "    }\n",
       "\n",
       "    .dataframe thead th {\n",
       "        text-align: right;\n",
       "    }\n",
       "</style>\n",
       "<table border=\"1\" class=\"dataframe\">\n",
       "  <thead>\n",
       "    <tr style=\"text-align: right;\">\n",
       "      <th></th>\n",
       "      <th>date</th>\n",
       "      <th>temperature</th>\n",
       "      <th>windSpeed</th>\n",
       "      <th>status</th>\n",
       "    </tr>\n",
       "  </thead>\n",
       "  <tbody>\n",
       "    <tr>\n",
       "      <th>0</th>\n",
       "      <td>2020-05-06</td>\n",
       "      <td>35.6582</td>\n",
       "      <td>10.788378</td>\n",
       "      <td>sunny</td>\n",
       "    </tr>\n",
       "    <tr>\n",
       "      <th>1</th>\n",
       "      <td>2020-05-07</td>\n",
       "      <td>35.6582</td>\n",
       "      <td>10.788378</td>\n",
       "      <td>sunny</td>\n",
       "    </tr>\n",
       "    <tr>\n",
       "      <th>2</th>\n",
       "      <td>2020-05-08</td>\n",
       "      <td>30.9343</td>\n",
       "      <td>NaN</td>\n",
       "      <td>rainy</td>\n",
       "    </tr>\n",
       "    <tr>\n",
       "      <th>3</th>\n",
       "      <td>2020-05-09</td>\n",
       "      <td>30.9343</td>\n",
       "      <td>6.889682</td>\n",
       "      <td>cloudy</td>\n",
       "    </tr>\n",
       "    <tr>\n",
       "      <th>4</th>\n",
       "      <td>2020-05-10</td>\n",
       "      <td>13.9082</td>\n",
       "      <td>19.012990</td>\n",
       "      <td>rainy</td>\n",
       "    </tr>\n",
       "    <tr>\n",
       "      <th>5</th>\n",
       "      <td>2020-05-11</td>\n",
       "      <td>23.9382</td>\n",
       "      <td>19.012990</td>\n",
       "      <td>sunny</td>\n",
       "    </tr>\n",
       "  </tbody>\n",
       "</table>\n",
       "</div>"
      ],
      "text/plain": [
       "        date  temperature  windSpeed  status\n",
       "0 2020-05-06      35.6582  10.788378   sunny\n",
       "1 2020-05-07      35.6582  10.788378   sunny\n",
       "2 2020-05-08      30.9343        NaN   rainy\n",
       "3 2020-05-09      30.9343   6.889682  cloudy\n",
       "4 2020-05-10      13.9082  19.012990   rainy\n",
       "5 2020-05-11      23.9382  19.012990   sunny"
      ]
     },
     "execution_count": 14,
     "metadata": {},
     "output_type": "execute_result"
    }
   ],
   "source": [
    "data.fillna(method='ffill',limit=1)"
   ]
  },
  {
   "cell_type": "markdown",
   "id": "abbdb002",
   "metadata": {},
   "source": [
    "## Filling with Pandas objects\n",
    "\n",
    "There are many Pandas objects like df.sum(), df.max(), etc. we can fill the missing values with\n",
    "these too."
   ]
  },
  {
   "cell_type": "code",
   "execution_count": 15,
   "id": "b6cce450",
   "metadata": {},
   "outputs": [
    {
     "data": {
      "text/html": [
       "<div>\n",
       "<style scoped>\n",
       "    .dataframe tbody tr th:only-of-type {\n",
       "        vertical-align: middle;\n",
       "    }\n",
       "\n",
       "    .dataframe tbody tr th {\n",
       "        vertical-align: top;\n",
       "    }\n",
       "\n",
       "    .dataframe thead th {\n",
       "        text-align: right;\n",
       "    }\n",
       "</style>\n",
       "<table border=\"1\" class=\"dataframe\">\n",
       "  <thead>\n",
       "    <tr style=\"text-align: right;\">\n",
       "      <th></th>\n",
       "      <th>date</th>\n",
       "      <th>temperature</th>\n",
       "      <th>windSpeed</th>\n",
       "      <th>status</th>\n",
       "    </tr>\n",
       "  </thead>\n",
       "  <tbody>\n",
       "    <tr>\n",
       "      <th>0</th>\n",
       "      <td>2020-05-06</td>\n",
       "      <td>35.658200</td>\n",
       "      <td>10.788378</td>\n",
       "      <td>sunny</td>\n",
       "    </tr>\n",
       "    <tr>\n",
       "      <th>1</th>\n",
       "      <td>2020-05-07</td>\n",
       "      <td>26.109725</td>\n",
       "      <td>12.230350</td>\n",
       "      <td>NaN</td>\n",
       "    </tr>\n",
       "    <tr>\n",
       "      <th>2</th>\n",
       "      <td>2020-05-08</td>\n",
       "      <td>30.934300</td>\n",
       "      <td>12.230350</td>\n",
       "      <td>rainy</td>\n",
       "    </tr>\n",
       "    <tr>\n",
       "      <th>3</th>\n",
       "      <td>2020-05-09</td>\n",
       "      <td>26.109725</td>\n",
       "      <td>6.889682</td>\n",
       "      <td>cloudy</td>\n",
       "    </tr>\n",
       "    <tr>\n",
       "      <th>4</th>\n",
       "      <td>2020-05-10</td>\n",
       "      <td>13.908200</td>\n",
       "      <td>19.012990</td>\n",
       "      <td>rainy</td>\n",
       "    </tr>\n",
       "    <tr>\n",
       "      <th>5</th>\n",
       "      <td>2020-05-11</td>\n",
       "      <td>23.938200</td>\n",
       "      <td>12.230350</td>\n",
       "      <td>sunny</td>\n",
       "    </tr>\n",
       "  </tbody>\n",
       "</table>\n",
       "</div>"
      ],
      "text/plain": [
       "        date  temperature  windSpeed  status\n",
       "0 2020-05-06    35.658200  10.788378   sunny\n",
       "1 2020-05-07    26.109725  12.230350     NaN\n",
       "2 2020-05-08    30.934300  12.230350   rainy\n",
       "3 2020-05-09    26.109725   6.889682  cloudy\n",
       "4 2020-05-10    13.908200  19.012990   rainy\n",
       "5 2020-05-11    23.938200  12.230350   sunny"
      ]
     },
     "execution_count": 15,
     "metadata": {},
     "output_type": "execute_result"
    }
   ],
   "source": [
    "data.fillna(data.mean())"
   ]
  },
  {
   "cell_type": "markdown",
   "id": "175a543a",
   "metadata": {},
   "source": [
    "## Filling for specific range of columns\n",
    "\n",
    "We can do filling for a specific range of column too as:"
   ]
  },
  {
   "cell_type": "code",
   "execution_count": 16,
   "id": "e61c0e2a",
   "metadata": {},
   "outputs": [
    {
     "data": {
      "text/html": [
       "<div>\n",
       "<style scoped>\n",
       "    .dataframe tbody tr th:only-of-type {\n",
       "        vertical-align: middle;\n",
       "    }\n",
       "\n",
       "    .dataframe tbody tr th {\n",
       "        vertical-align: top;\n",
       "    }\n",
       "\n",
       "    .dataframe thead th {\n",
       "        text-align: right;\n",
       "    }\n",
       "</style>\n",
       "<table border=\"1\" class=\"dataframe\">\n",
       "  <thead>\n",
       "    <tr style=\"text-align: right;\">\n",
       "      <th></th>\n",
       "      <th>date</th>\n",
       "      <th>temperature</th>\n",
       "      <th>windSpeed</th>\n",
       "      <th>status</th>\n",
       "    </tr>\n",
       "  </thead>\n",
       "  <tbody>\n",
       "    <tr>\n",
       "      <th>0</th>\n",
       "      <td>2020-05-06</td>\n",
       "      <td>35.658200</td>\n",
       "      <td>10.788378</td>\n",
       "      <td>sunny</td>\n",
       "    </tr>\n",
       "    <tr>\n",
       "      <th>1</th>\n",
       "      <td>2020-05-07</td>\n",
       "      <td>26.109725</td>\n",
       "      <td>12.230350</td>\n",
       "      <td>NaN</td>\n",
       "    </tr>\n",
       "    <tr>\n",
       "      <th>2</th>\n",
       "      <td>2020-05-08</td>\n",
       "      <td>30.934300</td>\n",
       "      <td>12.230350</td>\n",
       "      <td>rainy</td>\n",
       "    </tr>\n",
       "    <tr>\n",
       "      <th>3</th>\n",
       "      <td>2020-05-09</td>\n",
       "      <td>26.109725</td>\n",
       "      <td>6.889682</td>\n",
       "      <td>cloudy</td>\n",
       "    </tr>\n",
       "    <tr>\n",
       "      <th>4</th>\n",
       "      <td>2020-05-10</td>\n",
       "      <td>13.908200</td>\n",
       "      <td>19.012990</td>\n",
       "      <td>rainy</td>\n",
       "    </tr>\n",
       "    <tr>\n",
       "      <th>5</th>\n",
       "      <td>2020-05-11</td>\n",
       "      <td>23.938200</td>\n",
       "      <td>12.230350</td>\n",
       "      <td>sunny</td>\n",
       "    </tr>\n",
       "  </tbody>\n",
       "</table>\n",
       "</div>"
      ],
      "text/plain": [
       "        date  temperature  windSpeed  status\n",
       "0 2020-05-06    35.658200  10.788378   sunny\n",
       "1 2020-05-07    26.109725  12.230350     NaN\n",
       "2 2020-05-08    30.934300  12.230350   rainy\n",
       "3 2020-05-09    26.109725   6.889682  cloudy\n",
       "4 2020-05-10    13.908200  19.012990   rainy\n",
       "5 2020-05-11    23.938200  12.230350   sunny"
      ]
     },
     "execution_count": 16,
     "metadata": {},
     "output_type": "execute_result"
    }
   ],
   "source": [
    "data.fillna(data.mean()['temperature':'windSpeed'])"
   ]
  },
  {
   "cell_type": "markdown",
   "id": "9c93a45f",
   "metadata": {},
   "source": [
    "## Interpolate missing value\n",
    "\n",
    "In short, interpolation is a process of determining the unknown values that lie in between the\n",
    "known data points. We can interpolate missing values based on different methods. This is done\n",
    "by an object in DataFrame as interpolate() . By default, interpolate() does linear interpolation."
   ]
  },
  {
   "cell_type": "markdown",
   "id": "5f2ed9f1",
   "metadata": {},
   "source": [
    "### Linear interpolate\n",
    "\n",
    "Linear interpolation involves estimating a new value by connecting two adjacent known values\n",
    "with a straight line."
   ]
  },
  {
   "cell_type": "code",
   "execution_count": 17,
   "id": "e0ef7802",
   "metadata": {},
   "outputs": [
    {
     "data": {
      "text/plain": [
       "0    35.65820\n",
       "1    33.29625\n",
       "2    30.93430\n",
       "3    22.42125\n",
       "4    13.90820\n",
       "5    23.93820\n",
       "Name: temperature, dtype: float64"
      ]
     },
     "execution_count": 17,
     "metadata": {},
     "output_type": "execute_result"
    }
   ],
   "source": [
    "data.temperature.interpolate()"
   ]
  },
  {
   "cell_type": "markdown",
   "id": "a42532dd",
   "metadata": {},
   "source": [
    "### Time interpolate\n",
    "\n",
    "time-weighted interpolation only works on Series or DataFrames with a DatetimeIndex\n",
    "\n",
    "data.interpolate(method='time')"
   ]
  },
  {
   "cell_type": "markdown",
   "id": "05d36e0d",
   "metadata": {},
   "source": [
    "### Other methods"
   ]
  },
  {
   "cell_type": "code",
   "execution_count": 18,
   "id": "6cbc0e22",
   "metadata": {},
   "outputs": [
    {
     "data": {
      "text/plain": [
       "0    35.65820\n",
       "1    39.46530\n",
       "2    30.93430\n",
       "3    19.32775\n",
       "4    13.90820\n",
       "5    23.93820\n",
       "Name: temperature, dtype: float64"
      ]
     },
     "execution_count": 18,
     "metadata": {},
     "output_type": "execute_result"
    }
   ],
   "source": [
    "data.temperature.interpolate(method='barycentric')"
   ]
  },
  {
   "cell_type": "code",
   "execution_count": 19,
   "id": "6172355e",
   "metadata": {},
   "outputs": [
    {
     "data": {
      "text/plain": [
       "0    35.658200\n",
       "1    34.220728\n",
       "2    30.934300\n",
       "3    21.496772\n",
       "4    13.908200\n",
       "5    23.938200\n",
       "Name: temperature, dtype: float64"
      ]
     },
     "execution_count": 19,
     "metadata": {},
     "output_type": "execute_result"
    }
   ],
   "source": [
    "data.temperature.interpolate(method='pchip')"
   ]
  },
  {
   "cell_type": "code",
   "execution_count": 20,
   "id": "18b032dd",
   "metadata": {},
   "outputs": [
    {
     "data": {
      "text/plain": [
       "0    35.658200\n",
       "1    34.448184\n",
       "2    30.934300\n",
       "3    22.421250\n",
       "4    13.908200\n",
       "5    23.938200\n",
       "Name: temperature, dtype: float64"
      ]
     },
     "execution_count": 20,
     "metadata": {},
     "output_type": "execute_result"
    }
   ],
   "source": [
    "data.temperature.interpolate(method='akima')"
   ]
  },
  {
   "cell_type": "code",
   "execution_count": 21,
   "id": "8d31359b",
   "metadata": {},
   "outputs": [
    {
     "data": {
      "text/plain": [
       "0    35.658200\n",
       "1    35.076089\n",
       "2    30.934300\n",
       "3    20.526966\n",
       "4    13.908200\n",
       "5    23.938200\n",
       "Name: temperature, dtype: float64"
      ]
     },
     "execution_count": 21,
     "metadata": {},
     "output_type": "execute_result"
    }
   ],
   "source": [
    "data.temperature.interpolate(method='spline',order=2)"
   ]
  },
  {
   "cell_type": "code",
   "execution_count": 22,
   "id": "60f29f18",
   "metadata": {},
   "outputs": [
    {
     "data": {
      "text/plain": [
       "0    35.658200\n",
       "1    36.196165\n",
       "2    30.934300\n",
       "3    19.872606\n",
       "4    13.908200\n",
       "5    23.938200\n",
       "Name: temperature, dtype: float64"
      ]
     },
     "execution_count": 22,
     "metadata": {},
     "output_type": "execute_result"
    }
   ],
   "source": [
    "data.temperature.interpolate(method='polynomial',order=2)"
   ]
  },
  {
   "cell_type": "code",
   "execution_count": null,
   "id": "b7ce58b7",
   "metadata": {},
   "outputs": [],
   "source": []
  }
 ],
 "metadata": {
  "kernelspec": {
   "display_name": "Python 3 (ipykernel)",
   "language": "python",
   "name": "python3"
  },
  "language_info": {
   "codemirror_mode": {
    "name": "ipython",
    "version": 3
   },
   "file_extension": ".py",
   "mimetype": "text/x-python",
   "name": "python",
   "nbconvert_exporter": "python",
   "pygments_lexer": "ipython3",
   "version": "3.9.13"
  }
 },
 "nbformat": 4,
 "nbformat_minor": 5
}
